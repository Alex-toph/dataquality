{
 "cells": [
  {
   "cell_type": "code",
   "execution_count": 1,
   "metadata": {},
   "outputs": [
    {
     "name": "stdout",
     "output_type": "stream",
     "text": [
      "Name: great-expectations\n",
      "Version: 0.16.13\n",
      "Summary: Always know what to expect from your data.\n",
      "Home-page: https://greatexpectations.io\n",
      "Author: The Great Expectations Team\n",
      "Author-email: team@greatexpectations.io\n",
      "License: Apache-2.0\n",
      "Location: c:\\users\\admin\\appdata\\local\\packages\\pythonsoftwarefoundation.python.3.7_qbz5n2kfra8p0\\localcache\\local-packages\\python37\\site-packages\n",
      "Requires: altair, Click, colorama, cryptography, importlib-metadata, Ipython, ipywidgets, jinja2, jsonpatch, jsonschema, makefun, marshmallow, mistune, nbformat, notebook, numpy, packaging, pandas, pydantic, pyparsing, python-dateutil, pytz, requests, ruamel.yaml, scipy, tqdm, typing-extensions, tzlocal, urllib3\n",
      "Required-by: \n"
     ]
    }
   ],
   "source": [
    "!pip show great_expectations"
   ]
  },
  {
   "cell_type": "code",
   "execution_count": 2,
   "metadata": {},
   "outputs": [
    {
     "name": "stdout",
     "output_type": "stream",
     "text": [
      "Requirement already satisfied: great_expectations in c:\\users\\admin\\appdata\\local\\packages\\pythonsoftwarefoundation.python.3.7_qbz5n2kfra8p0\\localcache\\local-packages\\python37\\site-packages (0.16.13)\n",
      "Requirement already satisfied: altair<5.0.0,>=4.2.1 in c:\\users\\admin\\appdata\\local\\packages\\pythonsoftwarefoundation.python.3.7_qbz5n2kfra8p0\\localcache\\local-packages\\python37\\site-packages (from great_expectations) (4.2.2)\n",
      "Requirement already satisfied: Click>=7.1.2 in c:\\users\\admin\\appdata\\local\\packages\\pythonsoftwarefoundation.python.3.7_qbz5n2kfra8p0\\localcache\\local-packages\\python37\\site-packages (from great_expectations) (8.1.7)\n",
      "Requirement already satisfied: colorama>=0.4.3 in c:\\users\\admin\\appdata\\local\\packages\\pythonsoftwarefoundation.python.3.7_qbz5n2kfra8p0\\localcache\\local-packages\\python37\\site-packages (from great_expectations) (0.4.6)\n",
      "Requirement already satisfied: cryptography>=3.2 in c:\\users\\admin\\appdata\\local\\packages\\pythonsoftwarefoundation.python.3.7_qbz5n2kfra8p0\\localcache\\local-packages\\python37\\site-packages (from great_expectations) (42.0.2)\n",
      "Requirement already satisfied: importlib-metadata>=1.7.0 in c:\\users\\admin\\appdata\\local\\packages\\pythonsoftwarefoundation.python.3.7_qbz5n2kfra8p0\\localcache\\local-packages\\python37\\site-packages (from great_expectations) (6.7.0)\n",
      "Requirement already satisfied: Ipython>=7.16.3 in c:\\users\\admin\\appdata\\local\\packages\\pythonsoftwarefoundation.python.3.7_qbz5n2kfra8p0\\localcache\\local-packages\\python37\\site-packages (from great_expectations) (7.34.0)\n",
      "Requirement already satisfied: ipywidgets>=7.5.1 in c:\\users\\admin\\appdata\\local\\packages\\pythonsoftwarefoundation.python.3.7_qbz5n2kfra8p0\\localcache\\local-packages\\python37\\site-packages (from great_expectations) (8.1.2)\n",
      "Requirement already satisfied: jinja2>=2.10 in c:\\users\\admin\\appdata\\local\\packages\\pythonsoftwarefoundation.python.3.7_qbz5n2kfra8p0\\localcache\\local-packages\\python37\\site-packages (from great_expectations) (3.1.3)\n",
      "Requirement already satisfied: jsonpatch>=1.22 in c:\\users\\admin\\appdata\\local\\packages\\pythonsoftwarefoundation.python.3.7_qbz5n2kfra8p0\\localcache\\local-packages\\python37\\site-packages (from great_expectations) (1.33)\n",
      "Requirement already satisfied: jsonschema>=2.5.1 in c:\\users\\admin\\appdata\\local\\packages\\pythonsoftwarefoundation.python.3.7_qbz5n2kfra8p0\\localcache\\local-packages\\python37\\site-packages (from great_expectations) (4.17.3)\n",
      "Requirement already satisfied: makefun<2,>=1.7.0 in c:\\users\\admin\\appdata\\local\\packages\\pythonsoftwarefoundation.python.3.7_qbz5n2kfra8p0\\localcache\\local-packages\\python37\\site-packages (from great_expectations) (1.15.2)\n",
      "Requirement already satisfied: marshmallow<4.0.0,>=3.7.1 in c:\\users\\admin\\appdata\\local\\packages\\pythonsoftwarefoundation.python.3.7_qbz5n2kfra8p0\\localcache\\local-packages\\python37\\site-packages (from great_expectations) (3.19.0)\n",
      "Requirement already satisfied: mistune>=0.8.4 in c:\\users\\admin\\appdata\\local\\packages\\pythonsoftwarefoundation.python.3.7_qbz5n2kfra8p0\\localcache\\local-packages\\python37\\site-packages (from great_expectations) (3.0.2)\n",
      "Requirement already satisfied: nbformat>=5.0 in c:\\users\\admin\\appdata\\local\\packages\\pythonsoftwarefoundation.python.3.7_qbz5n2kfra8p0\\localcache\\local-packages\\python37\\site-packages (from great_expectations) (5.8.0)\n",
      "Requirement already satisfied: notebook>=6.4.10 in c:\\users\\admin\\appdata\\local\\packages\\pythonsoftwarefoundation.python.3.7_qbz5n2kfra8p0\\localcache\\local-packages\\python37\\site-packages (from great_expectations) (6.5.6)\n",
      "Requirement already satisfied: packaging in c:\\users\\admin\\appdata\\local\\packages\\pythonsoftwarefoundation.python.3.7_qbz5n2kfra8p0\\localcache\\local-packages\\python37\\site-packages (from great_expectations) (23.2)\n",
      "Requirement already satisfied: pydantic<2.0,>=1.9.2 in c:\\users\\admin\\appdata\\local\\packages\\pythonsoftwarefoundation.python.3.7_qbz5n2kfra8p0\\localcache\\local-packages\\python37\\site-packages (from great_expectations) (1.10.14)\n",
      "Requirement already satisfied: pyparsing>=2.4 in c:\\users\\admin\\appdata\\local\\packages\\pythonsoftwarefoundation.python.3.7_qbz5n2kfra8p0\\localcache\\local-packages\\python37\\site-packages (from great_expectations) (3.1.1)\n",
      "Requirement already satisfied: python-dateutil>=2.8.1 in c:\\users\\admin\\appdata\\local\\packages\\pythonsoftwarefoundation.python.3.7_qbz5n2kfra8p0\\localcache\\local-packages\\python37\\site-packages (from great_expectations) (2.8.2)\n",
      "Requirement already satisfied: pytz>=2021.3 in c:\\users\\admin\\appdata\\local\\packages\\pythonsoftwarefoundation.python.3.7_qbz5n2kfra8p0\\localcache\\local-packages\\python37\\site-packages (from great_expectations) (2024.1)\n",
      "Requirement already satisfied: requests>=2.20 in c:\\users\\admin\\appdata\\local\\packages\\pythonsoftwarefoundation.python.3.7_qbz5n2kfra8p0\\localcache\\local-packages\\python37\\site-packages (from great_expectations) (2.31.0)\n",
      "Requirement already satisfied: ruamel.yaml<0.17.18,>=0.16 in c:\\users\\admin\\appdata\\local\\packages\\pythonsoftwarefoundation.python.3.7_qbz5n2kfra8p0\\localcache\\local-packages\\python37\\site-packages (from great_expectations) (0.17.17)\n",
      "Requirement already satisfied: scipy>=1.6.0 in c:\\users\\admin\\appdata\\local\\packages\\pythonsoftwarefoundation.python.3.7_qbz5n2kfra8p0\\localcache\\local-packages\\python37\\site-packages (from great_expectations) (1.7.3)\n",
      "Requirement already satisfied: tqdm>=4.59.0 in c:\\users\\admin\\appdata\\local\\packages\\pythonsoftwarefoundation.python.3.7_qbz5n2kfra8p0\\localcache\\local-packages\\python37\\site-packages (from great_expectations) (4.66.2)\n",
      "Requirement already satisfied: typing-extensions>=3.10.0.0 in c:\\users\\admin\\appdata\\local\\packages\\pythonsoftwarefoundation.python.3.7_qbz5n2kfra8p0\\localcache\\local-packages\\python37\\site-packages (from great_expectations) (4.7.1)\n",
      "Requirement already satisfied: tzlocal>=1.2 in c:\\users\\admin\\appdata\\local\\packages\\pythonsoftwarefoundation.python.3.7_qbz5n2kfra8p0\\localcache\\local-packages\\python37\\site-packages (from great_expectations) (5.1)\n",
      "Requirement already satisfied: urllib3>=1.26 in c:\\users\\admin\\appdata\\local\\packages\\pythonsoftwarefoundation.python.3.7_qbz5n2kfra8p0\\localcache\\local-packages\\python37\\site-packages (from great_expectations) (2.0.7)\n",
      "Requirement already satisfied: numpy>=1.18.5 in c:\\users\\admin\\appdata\\local\\packages\\pythonsoftwarefoundation.python.3.7_qbz5n2kfra8p0\\localcache\\local-packages\\python37\\site-packages (from great_expectations) (1.21.6)\n",
      "Requirement already satisfied: pandas<2.0.0,>=1.1.0 in c:\\users\\admin\\appdata\\local\\packages\\pythonsoftwarefoundation.python.3.7_qbz5n2kfra8p0\\localcache\\local-packages\\python37\\site-packages (from great_expectations) (1.3.5)\n",
      "Requirement already satisfied: entrypoints in c:\\users\\admin\\appdata\\local\\packages\\pythonsoftwarefoundation.python.3.7_qbz5n2kfra8p0\\localcache\\local-packages\\python37\\site-packages (from altair<5.0.0,>=4.2.1->great_expectations) (0.4)\n",
      "Requirement already satisfied: toolz in c:\\users\\admin\\appdata\\local\\packages\\pythonsoftwarefoundation.python.3.7_qbz5n2kfra8p0\\localcache\\local-packages\\python37\\site-packages (from altair<5.0.0,>=4.2.1->great_expectations) (0.12.1)\n",
      "Requirement already satisfied: cffi>=1.12 in c:\\users\\admin\\appdata\\local\\packages\\pythonsoftwarefoundation.python.3.7_qbz5n2kfra8p0\\localcache\\local-packages\\python37\\site-packages (from cryptography>=3.2->great_expectations) (1.15.1)\n",
      "Requirement already satisfied: zipp>=0.5 in c:\\users\\admin\\appdata\\local\\packages\\pythonsoftwarefoundation.python.3.7_qbz5n2kfra8p0\\localcache\\local-packages\\python37\\site-packages (from importlib-metadata>=1.7.0->great_expectations) (3.15.0)\n",
      "Requirement already satisfied: setuptools>=18.5 in c:\\program files\\windowsapps\\pythonsoftwarefoundation.python.3.7_3.7.2544.0_x64__qbz5n2kfra8p0\\lib\\site-packages (from Ipython>=7.16.3->great_expectations) (47.1.0)\n",
      "Requirement already satisfied: jedi>=0.16 in c:\\users\\admin\\appdata\\local\\packages\\pythonsoftwarefoundation.python.3.7_qbz5n2kfra8p0\\localcache\\local-packages\\python37\\site-packages (from Ipython>=7.16.3->great_expectations) (0.19.1)\n",
      "Requirement already satisfied: decorator in c:\\users\\admin\\appdata\\local\\packages\\pythonsoftwarefoundation.python.3.7_qbz5n2kfra8p0\\localcache\\local-packages\\python37\\site-packages (from Ipython>=7.16.3->great_expectations) (5.1.1)\n",
      "Requirement already satisfied: pickleshare in c:\\users\\admin\\appdata\\local\\packages\\pythonsoftwarefoundation.python.3.7_qbz5n2kfra8p0\\localcache\\local-packages\\python37\\site-packages (from Ipython>=7.16.3->great_expectations) (0.7.5)\n",
      "Requirement already satisfied: traitlets>=4.2 in c:\\users\\admin\\appdata\\local\\packages\\pythonsoftwarefoundation.python.3.7_qbz5n2kfra8p0\\localcache\\local-packages\\python37\\site-packages (from Ipython>=7.16.3->great_expectations) (5.9.0)\n",
      "Requirement already satisfied: prompt-toolkit!=3.0.0,!=3.0.1,<3.1.0,>=2.0.0 in c:\\users\\admin\\appdata\\local\\packages\\pythonsoftwarefoundation.python.3.7_qbz5n2kfra8p0\\localcache\\local-packages\\python37\\site-packages (from Ipython>=7.16.3->great_expectations) (3.0.43)\n",
      "Requirement already satisfied: pygments in c:\\users\\admin\\appdata\\local\\packages\\pythonsoftwarefoundation.python.3.7_qbz5n2kfra8p0\\localcache\\local-packages\\python37\\site-packages (from Ipython>=7.16.3->great_expectations) (2.17.2)\n",
      "Requirement already satisfied: backcall in c:\\users\\admin\\appdata\\local\\packages\\pythonsoftwarefoundation.python.3.7_qbz5n2kfra8p0\\localcache\\local-packages\\python37\\site-packages (from Ipython>=7.16.3->great_expectations) (0.2.0)\n",
      "Requirement already satisfied: matplotlib-inline in c:\\users\\admin\\appdata\\local\\packages\\pythonsoftwarefoundation.python.3.7_qbz5n2kfra8p0\\localcache\\local-packages\\python37\\site-packages (from Ipython>=7.16.3->great_expectations) (0.1.6)\n",
      "Requirement already satisfied: comm>=0.1.3 in c:\\users\\admin\\appdata\\local\\packages\\pythonsoftwarefoundation.python.3.7_qbz5n2kfra8p0\\localcache\\local-packages\\python37\\site-packages (from ipywidgets>=7.5.1->great_expectations) (0.1.4)\n",
      "Requirement already satisfied: widgetsnbextension~=4.0.10 in c:\\users\\admin\\appdata\\local\\packages\\pythonsoftwarefoundation.python.3.7_qbz5n2kfra8p0\\localcache\\local-packages\\python37\\site-packages (from ipywidgets>=7.5.1->great_expectations) (4.0.10)\n",
      "Requirement already satisfied: jupyterlab-widgets~=3.0.10 in c:\\users\\admin\\appdata\\local\\packages\\pythonsoftwarefoundation.python.3.7_qbz5n2kfra8p0\\localcache\\local-packages\\python37\\site-packages (from ipywidgets>=7.5.1->great_expectations) (3.0.10)\n",
      "Requirement already satisfied: MarkupSafe>=2.0 in c:\\users\\admin\\appdata\\local\\packages\\pythonsoftwarefoundation.python.3.7_qbz5n2kfra8p0\\localcache\\local-packages\\python37\\site-packages (from jinja2>=2.10->great_expectations) (2.1.5)\n",
      "Requirement already satisfied: jsonpointer>=1.9 in c:\\users\\admin\\appdata\\local\\packages\\pythonsoftwarefoundation.python.3.7_qbz5n2kfra8p0\\localcache\\local-packages\\python37\\site-packages (from jsonpatch>=1.22->great_expectations) (2.4)\n",
      "Requirement already satisfied: attrs>=17.4.0 in c:\\users\\admin\\appdata\\local\\packages\\pythonsoftwarefoundation.python.3.7_qbz5n2kfra8p0\\localcache\\local-packages\\python37\\site-packages (from jsonschema>=2.5.1->great_expectations) (23.2.0)\n",
      "Requirement already satisfied: importlib-resources>=1.4.0 in c:\\users\\admin\\appdata\\local\\packages\\pythonsoftwarefoundation.python.3.7_qbz5n2kfra8p0\\localcache\\local-packages\\python37\\site-packages (from jsonschema>=2.5.1->great_expectations) (5.12.0)\n",
      "Requirement already satisfied: pkgutil-resolve-name>=1.3.10 in c:\\users\\admin\\appdata\\local\\packages\\pythonsoftwarefoundation.python.3.7_qbz5n2kfra8p0\\localcache\\local-packages\\python37\\site-packages (from jsonschema>=2.5.1->great_expectations) (1.3.10)\n",
      "Requirement already satisfied: pyrsistent!=0.17.0,!=0.17.1,!=0.17.2,>=0.14.0 in c:\\users\\admin\\appdata\\local\\packages\\pythonsoftwarefoundation.python.3.7_qbz5n2kfra8p0\\localcache\\local-packages\\python37\\site-packages (from jsonschema>=2.5.1->great_expectations) (0.19.3)\n",
      "Requirement already satisfied: fastjsonschema in c:\\users\\admin\\appdata\\local\\packages\\pythonsoftwarefoundation.python.3.7_qbz5n2kfra8p0\\localcache\\local-packages\\python37\\site-packages (from nbformat>=5.0->great_expectations) (2.19.1)\n",
      "Requirement already satisfied: jupyter-core in c:\\users\\admin\\appdata\\local\\packages\\pythonsoftwarefoundation.python.3.7_qbz5n2kfra8p0\\localcache\\local-packages\\python37\\site-packages (from nbformat>=5.0->great_expectations) (4.12.0)\n",
      "Requirement already satisfied: tornado>=6.1 in c:\\users\\admin\\appdata\\local\\packages\\pythonsoftwarefoundation.python.3.7_qbz5n2kfra8p0\\localcache\\local-packages\\python37\\site-packages (from notebook>=6.4.10->great_expectations) (6.2)\n",
      "Requirement already satisfied: pyzmq<25,>=17 in c:\\users\\admin\\appdata\\local\\packages\\pythonsoftwarefoundation.python.3.7_qbz5n2kfra8p0\\localcache\\local-packages\\python37\\site-packages (from notebook>=6.4.10->great_expectations) (24.0.1)\n",
      "Requirement already satisfied: argon2-cffi in c:\\users\\admin\\appdata\\local\\packages\\pythonsoftwarefoundation.python.3.7_qbz5n2kfra8p0\\localcache\\local-packages\\python37\\site-packages (from notebook>=6.4.10->great_expectations) (23.1.0)\n",
      "Requirement already satisfied: jupyter-client<8,>=5.3.4 in c:\\users\\admin\\appdata\\local\\packages\\pythonsoftwarefoundation.python.3.7_qbz5n2kfra8p0\\localcache\\local-packages\\python37\\site-packages (from notebook>=6.4.10->great_expectations) (7.4.9)\n",
      "Requirement already satisfied: ipython-genutils in c:\\users\\admin\\appdata\\local\\packages\\pythonsoftwarefoundation.python.3.7_qbz5n2kfra8p0\\localcache\\local-packages\\python37\\site-packages (from notebook>=6.4.10->great_expectations) (0.2.0)\n",
      "Requirement already satisfied: nbconvert>=5 in c:\\users\\admin\\appdata\\local\\packages\\pythonsoftwarefoundation.python.3.7_qbz5n2kfra8p0\\localcache\\local-packages\\python37\\site-packages (from notebook>=6.4.10->great_expectations) (7.6.0)\n",
      "Requirement already satisfied: nest-asyncio>=1.5 in c:\\users\\admin\\appdata\\local\\packages\\pythonsoftwarefoundation.python.3.7_qbz5n2kfra8p0\\localcache\\local-packages\\python37\\site-packages (from notebook>=6.4.10->great_expectations) (1.6.0)\n",
      "Requirement already satisfied: ipykernel in c:\\users\\admin\\appdata\\local\\packages\\pythonsoftwarefoundation.python.3.7_qbz5n2kfra8p0\\localcache\\local-packages\\python37\\site-packages (from notebook>=6.4.10->great_expectations) (6.16.2)\n",
      "Requirement already satisfied: Send2Trash>=1.8.0 in c:\\users\\admin\\appdata\\local\\packages\\pythonsoftwarefoundation.python.3.7_qbz5n2kfra8p0\\localcache\\local-packages\\python37\\site-packages (from notebook>=6.4.10->great_expectations) (1.8.2)\n",
      "Requirement already satisfied: terminado>=0.8.3 in c:\\users\\admin\\appdata\\local\\packages\\pythonsoftwarefoundation.python.3.7_qbz5n2kfra8p0\\localcache\\local-packages\\python37\\site-packages (from notebook>=6.4.10->great_expectations) (0.17.1)\n",
      "Requirement already satisfied: prometheus-client in c:\\users\\admin\\appdata\\local\\packages\\pythonsoftwarefoundation.python.3.7_qbz5n2kfra8p0\\localcache\\local-packages\\python37\\site-packages (from notebook>=6.4.10->great_expectations) (0.17.1)\n",
      "Requirement already satisfied: nbclassic>=0.4.7 in c:\\users\\admin\\appdata\\local\\packages\\pythonsoftwarefoundation.python.3.7_qbz5n2kfra8p0\\localcache\\local-packages\\python37\\site-packages (from notebook>=6.4.10->great_expectations) (1.0.0)\n",
      "Requirement already satisfied: six>=1.5 in c:\\users\\admin\\appdata\\local\\packages\\pythonsoftwarefoundation.python.3.7_qbz5n2kfra8p0\\localcache\\local-packages\\python37\\site-packages (from python-dateutil>=2.8.1->great_expectations) (1.16.0)\n",
      "Requirement already satisfied: charset-normalizer<4,>=2 in c:\\users\\admin\\appdata\\local\\packages\\pythonsoftwarefoundation.python.3.7_qbz5n2kfra8p0\\localcache\\local-packages\\python37\\site-packages (from requests>=2.20->great_expectations) (3.3.2)\n",
      "Requirement already satisfied: idna<4,>=2.5 in c:\\users\\admin\\appdata\\local\\packages\\pythonsoftwarefoundation.python.3.7_qbz5n2kfra8p0\\localcache\\local-packages\\python37\\site-packages (from requests>=2.20->great_expectations) (3.6)\n",
      "Requirement already satisfied: certifi>=2017.4.17 in c:\\users\\admin\\appdata\\local\\packages\\pythonsoftwarefoundation.python.3.7_qbz5n2kfra8p0\\localcache\\local-packages\\python37\\site-packages (from requests>=2.20->great_expectations) (2024.2.2)\n",
      "Requirement already satisfied: ruamel.yaml.clib>=0.1.2 in c:\\users\\admin\\appdata\\local\\packages\\pythonsoftwarefoundation.python.3.7_qbz5n2kfra8p0\\localcache\\local-packages\\python37\\site-packages (from ruamel.yaml<0.17.18,>=0.16->great_expectations) (0.2.8)\n",
      "Requirement already satisfied: tzdata in c:\\users\\admin\\appdata\\local\\packages\\pythonsoftwarefoundation.python.3.7_qbz5n2kfra8p0\\localcache\\local-packages\\python37\\site-packages (from tzlocal>=1.2->great_expectations) (2024.1)\n",
      "Requirement already satisfied: backports.zoneinfo in c:\\users\\admin\\appdata\\local\\packages\\pythonsoftwarefoundation.python.3.7_qbz5n2kfra8p0\\localcache\\local-packages\\python37\\site-packages (from tzlocal>=1.2->great_expectations) (0.2.1)\n",
      "Requirement already satisfied: pycparser in c:\\users\\admin\\appdata\\local\\packages\\pythonsoftwarefoundation.python.3.7_qbz5n2kfra8p0\\localcache\\local-packages\\python37\\site-packages (from cffi>=1.12->cryptography>=3.2->great_expectations) (2.21)\n",
      "Requirement already satisfied: parso<0.9.0,>=0.8.3 in c:\\users\\admin\\appdata\\local\\packages\\pythonsoftwarefoundation.python.3.7_qbz5n2kfra8p0\\localcache\\local-packages\\python37\\site-packages (from jedi>=0.16->Ipython>=7.16.3->great_expectations) (0.8.3)\n",
      "Requirement already satisfied: pywin32>=1.0 in c:\\users\\admin\\appdata\\local\\packages\\pythonsoftwarefoundation.python.3.7_qbz5n2kfra8p0\\localcache\\local-packages\\python37\\site-packages (from jupyter-core->nbformat>=5.0->great_expectations) (306)\n",
      "Requirement already satisfied: jupyter-server>=1.8 in c:\\users\\admin\\appdata\\local\\packages\\pythonsoftwarefoundation.python.3.7_qbz5n2kfra8p0\\localcache\\local-packages\\python37\\site-packages (from nbclassic>=0.4.7->notebook>=6.4.10->great_expectations) (1.24.0)\n",
      "Requirement already satisfied: notebook-shim>=0.2.3 in c:\\users\\admin\\appdata\\local\\packages\\pythonsoftwarefoundation.python.3.7_qbz5n2kfra8p0\\localcache\\local-packages\\python37\\site-packages (from nbclassic>=0.4.7->notebook>=6.4.10->great_expectations) (0.2.3)\n",
      "Requirement already satisfied: beautifulsoup4 in c:\\users\\admin\\appdata\\local\\packages\\pythonsoftwarefoundation.python.3.7_qbz5n2kfra8p0\\localcache\\local-packages\\python37\\site-packages (from nbconvert>=5->notebook>=6.4.10->great_expectations) (4.12.3)\n",
      "Requirement already satisfied: bleach!=5.0.0 in c:\\users\\admin\\appdata\\local\\packages\\pythonsoftwarefoundation.python.3.7_qbz5n2kfra8p0\\localcache\\local-packages\\python37\\site-packages (from nbconvert>=5->notebook>=6.4.10->great_expectations) (6.0.0)\n",
      "Requirement already satisfied: defusedxml in c:\\users\\admin\\appdata\\local\\packages\\pythonsoftwarefoundation.python.3.7_qbz5n2kfra8p0\\localcache\\local-packages\\python37\\site-packages (from nbconvert>=5->notebook>=6.4.10->great_expectations) (0.7.1)\n",
      "Requirement already satisfied: jupyterlab-pygments in c:\\users\\admin\\appdata\\local\\packages\\pythonsoftwarefoundation.python.3.7_qbz5n2kfra8p0\\localcache\\local-packages\\python37\\site-packages (from nbconvert>=5->notebook>=6.4.10->great_expectations) (0.2.2)\n",
      "Requirement already satisfied: nbclient>=0.5.0 in c:\\users\\admin\\appdata\\local\\packages\\pythonsoftwarefoundation.python.3.7_qbz5n2kfra8p0\\localcache\\local-packages\\python37\\site-packages (from nbconvert>=5->notebook>=6.4.10->great_expectations) (0.7.4)\n",
      "Requirement already satisfied: pandocfilters>=1.4.1 in c:\\users\\admin\\appdata\\local\\packages\\pythonsoftwarefoundation.python.3.7_qbz5n2kfra8p0\\localcache\\local-packages\\python37\\site-packages (from nbconvert>=5->notebook>=6.4.10->great_expectations) (1.5.1)\n",
      "Requirement already satisfied: tinycss2 in c:\\users\\admin\\appdata\\local\\packages\\pythonsoftwarefoundation.python.3.7_qbz5n2kfra8p0\\localcache\\local-packages\\python37\\site-packages (from nbconvert>=5->notebook>=6.4.10->great_expectations) (1.2.1)\n",
      "Requirement already satisfied: wcwidth in c:\\users\\admin\\appdata\\local\\packages\\pythonsoftwarefoundation.python.3.7_qbz5n2kfra8p0\\localcache\\local-packages\\python37\\site-packages (from prompt-toolkit!=3.0.0,!=3.0.1,<3.1.0,>=2.0.0->Ipython>=7.16.3->great_expectations) (0.2.13)\n",
      "Requirement already satisfied: pywinpty>=1.1.0 in c:\\users\\admin\\appdata\\local\\packages\\pythonsoftwarefoundation.python.3.7_qbz5n2kfra8p0\\localcache\\local-packages\\python37\\site-packages (from terminado>=0.8.3->notebook>=6.4.10->great_expectations) (2.0.10)\n",
      "Requirement already satisfied: argon2-cffi-bindings in c:\\users\\admin\\appdata\\local\\packages\\pythonsoftwarefoundation.python.3.7_qbz5n2kfra8p0\\localcache\\local-packages\\python37\\site-packages (from argon2-cffi->notebook>=6.4.10->great_expectations) (21.2.0)\n",
      "Requirement already satisfied: debugpy>=1.0 in c:\\users\\admin\\appdata\\local\\packages\\pythonsoftwarefoundation.python.3.7_qbz5n2kfra8p0\\localcache\\local-packages\\python37\\site-packages (from ipykernel->notebook>=6.4.10->great_expectations) (1.7.0)\n",
      "Requirement already satisfied: psutil in c:\\users\\admin\\appdata\\local\\packages\\pythonsoftwarefoundation.python.3.7_qbz5n2kfra8p0\\localcache\\local-packages\\python37\\site-packages (from ipykernel->notebook>=6.4.10->great_expectations) (5.9.8)\n",
      "Requirement already satisfied: webencodings in c:\\users\\admin\\appdata\\local\\packages\\pythonsoftwarefoundation.python.3.7_qbz5n2kfra8p0\\localcache\\local-packages\\python37\\site-packages (from bleach!=5.0.0->nbconvert>=5->notebook>=6.4.10->great_expectations) (0.5.1)\n",
      "Requirement already satisfied: anyio<4,>=3.1.0 in c:\\users\\admin\\appdata\\local\\packages\\pythonsoftwarefoundation.python.3.7_qbz5n2kfra8p0\\localcache\\local-packages\\python37\\site-packages (from jupyter-server>=1.8->nbclassic>=0.4.7->notebook>=6.4.10->great_expectations) (3.7.1)\n",
      "Requirement already satisfied: websocket-client in c:\\users\\admin\\appdata\\local\\packages\\pythonsoftwarefoundation.python.3.7_qbz5n2kfra8p0\\localcache\\local-packages\\python37\\site-packages (from jupyter-server>=1.8->nbclassic>=0.4.7->notebook>=6.4.10->great_expectations) (1.6.1)\n",
      "Requirement already satisfied: soupsieve>1.2 in c:\\users\\admin\\appdata\\local\\packages\\pythonsoftwarefoundation.python.3.7_qbz5n2kfra8p0\\localcache\\local-packages\\python37\\site-packages (from beautifulsoup4->nbconvert>=5->notebook>=6.4.10->great_expectations) (2.4.1)\n",
      "Requirement already satisfied: sniffio>=1.1 in c:\\users\\admin\\appdata\\local\\packages\\pythonsoftwarefoundation.python.3.7_qbz5n2kfra8p0\\localcache\\local-packages\\python37\\site-packages (from anyio<4,>=3.1.0->jupyter-server>=1.8->nbclassic>=0.4.7->notebook>=6.4.10->great_expectations) (1.3.0)\n",
      "Requirement already satisfied: exceptiongroup in c:\\users\\admin\\appdata\\local\\packages\\pythonsoftwarefoundation.python.3.7_qbz5n2kfra8p0\\localcache\\local-packages\\python37\\site-packages (from anyio<4,>=3.1.0->jupyter-server>=1.8->nbclassic>=0.4.7->notebook>=6.4.10->great_expectations) (1.2.0)\n"
     ]
    }
   ],
   "source": [
    "!pip install --upgrade great_expectations"
   ]
  },
  {
   "cell_type": "code",
   "execution_count": 3,
   "metadata": {},
   "outputs": [
    {
     "name": "stdout",
     "output_type": "stream",
     "text": [
      "Python 3.12.1\n"
     ]
    }
   ],
   "source": [
    "!python --version"
   ]
  },
  {
   "cell_type": "code",
   "execution_count": 4,
   "metadata": {},
   "outputs": [
    {
     "name": "stdout",
     "output_type": "stream",
     "text": [
      "Name: great-expectations\n",
      "Version: 0.16.13\n",
      "Summary: Always know what to expect from your data.\n",
      "Home-page: https://greatexpectations.io\n",
      "Author: The Great Expectations Team\n",
      "Author-email: team@greatexpectations.io\n",
      "License: Apache-2.0\n",
      "Location: c:\\users\\admin\\appdata\\local\\packages\\pythonsoftwarefoundation.python.3.7_qbz5n2kfra8p0\\localcache\\local-packages\\python37\\site-packages\n",
      "Requires: altair, Click, colorama, cryptography, importlib-metadata, Ipython, ipywidgets, jinja2, jsonpatch, jsonschema, makefun, marshmallow, mistune, nbformat, notebook, numpy, packaging, pandas, pydantic, pyparsing, python-dateutil, pytz, requests, ruamel.yaml, scipy, tqdm, typing-extensions, tzlocal, urllib3\n",
      "Required-by: \n"
     ]
    }
   ],
   "source": [
    "!pip show great_expectations"
   ]
  },
  {
   "cell_type": "code",
   "execution_count": 5,
   "metadata": {},
   "outputs": [
    {
     "name": "stdout",
     "output_type": "stream",
     "text": [
      "Requirement already satisfied: great_expectations in c:\\users\\admin\\appdata\\local\\packages\\pythonsoftwarefoundation.python.3.7_qbz5n2kfra8p0\\localcache\\local-packages\\python37\\site-packages (0.16.13)\n",
      "Requirement already satisfied: altair<5.0.0,>=4.2.1 in c:\\users\\admin\\appdata\\local\\packages\\pythonsoftwarefoundation.python.3.7_qbz5n2kfra8p0\\localcache\\local-packages\\python37\\site-packages (from great_expectations) (4.2.2)\n",
      "Requirement already satisfied: Click>=7.1.2 in c:\\users\\admin\\appdata\\local\\packages\\pythonsoftwarefoundation.python.3.7_qbz5n2kfra8p0\\localcache\\local-packages\\python37\\site-packages (from great_expectations) (8.1.7)\n",
      "Requirement already satisfied: colorama>=0.4.3 in c:\\users\\admin\\appdata\\local\\packages\\pythonsoftwarefoundation.python.3.7_qbz5n2kfra8p0\\localcache\\local-packages\\python37\\site-packages (from great_expectations) (0.4.6)\n",
      "Requirement already satisfied: cryptography>=3.2 in c:\\users\\admin\\appdata\\local\\packages\\pythonsoftwarefoundation.python.3.7_qbz5n2kfra8p0\\localcache\\local-packages\\python37\\site-packages (from great_expectations) (42.0.2)\n",
      "Requirement already satisfied: importlib-metadata>=1.7.0 in c:\\users\\admin\\appdata\\local\\packages\\pythonsoftwarefoundation.python.3.7_qbz5n2kfra8p0\\localcache\\local-packages\\python37\\site-packages (from great_expectations) (6.7.0)\n",
      "Requirement already satisfied: Ipython>=7.16.3 in c:\\users\\admin\\appdata\\local\\packages\\pythonsoftwarefoundation.python.3.7_qbz5n2kfra8p0\\localcache\\local-packages\\python37\\site-packages (from great_expectations) (7.34.0)\n",
      "Requirement already satisfied: ipywidgets>=7.5.1 in c:\\users\\admin\\appdata\\local\\packages\\pythonsoftwarefoundation.python.3.7_qbz5n2kfra8p0\\localcache\\local-packages\\python37\\site-packages (from great_expectations) (8.1.2)\n",
      "Requirement already satisfied: jinja2>=2.10 in c:\\users\\admin\\appdata\\local\\packages\\pythonsoftwarefoundation.python.3.7_qbz5n2kfra8p0\\localcache\\local-packages\\python37\\site-packages (from great_expectations) (3.1.3)\n",
      "Requirement already satisfied: jsonpatch>=1.22 in c:\\users\\admin\\appdata\\local\\packages\\pythonsoftwarefoundation.python.3.7_qbz5n2kfra8p0\\localcache\\local-packages\\python37\\site-packages (from great_expectations) (1.33)\n",
      "Requirement already satisfied: jsonschema>=2.5.1 in c:\\users\\admin\\appdata\\local\\packages\\pythonsoftwarefoundation.python.3.7_qbz5n2kfra8p0\\localcache\\local-packages\\python37\\site-packages (from great_expectations) (4.17.3)\n",
      "Requirement already satisfied: makefun<2,>=1.7.0 in c:\\users\\admin\\appdata\\local\\packages\\pythonsoftwarefoundation.python.3.7_qbz5n2kfra8p0\\localcache\\local-packages\\python37\\site-packages (from great_expectations) (1.15.2)\n",
      "Requirement already satisfied: marshmallow<4.0.0,>=3.7.1 in c:\\users\\admin\\appdata\\local\\packages\\pythonsoftwarefoundation.python.3.7_qbz5n2kfra8p0\\localcache\\local-packages\\python37\\site-packages (from great_expectations) (3.19.0)\n",
      "Requirement already satisfied: mistune>=0.8.4 in c:\\users\\admin\\appdata\\local\\packages\\pythonsoftwarefoundation.python.3.7_qbz5n2kfra8p0\\localcache\\local-packages\\python37\\site-packages (from great_expectations) (3.0.2)\n",
      "Requirement already satisfied: nbformat>=5.0 in c:\\users\\admin\\appdata\\local\\packages\\pythonsoftwarefoundation.python.3.7_qbz5n2kfra8p0\\localcache\\local-packages\\python37\\site-packages (from great_expectations) (5.8.0)\n",
      "Requirement already satisfied: notebook>=6.4.10 in c:\\users\\admin\\appdata\\local\\packages\\pythonsoftwarefoundation.python.3.7_qbz5n2kfra8p0\\localcache\\local-packages\\python37\\site-packages (from great_expectations) (6.5.6)\n",
      "Requirement already satisfied: packaging in c:\\users\\admin\\appdata\\local\\packages\\pythonsoftwarefoundation.python.3.7_qbz5n2kfra8p0\\localcache\\local-packages\\python37\\site-packages (from great_expectations) (23.2)\n",
      "Requirement already satisfied: pydantic<2.0,>=1.9.2 in c:\\users\\admin\\appdata\\local\\packages\\pythonsoftwarefoundation.python.3.7_qbz5n2kfra8p0\\localcache\\local-packages\\python37\\site-packages (from great_expectations) (1.10.14)\n",
      "Requirement already satisfied: pyparsing>=2.4 in c:\\users\\admin\\appdata\\local\\packages\\pythonsoftwarefoundation.python.3.7_qbz5n2kfra8p0\\localcache\\local-packages\\python37\\site-packages (from great_expectations) (3.1.1)\n",
      "Requirement already satisfied: python-dateutil>=2.8.1 in c:\\users\\admin\\appdata\\local\\packages\\pythonsoftwarefoundation.python.3.7_qbz5n2kfra8p0\\localcache\\local-packages\\python37\\site-packages (from great_expectations) (2.8.2)\n",
      "Requirement already satisfied: pytz>=2021.3 in c:\\users\\admin\\appdata\\local\\packages\\pythonsoftwarefoundation.python.3.7_qbz5n2kfra8p0\\localcache\\local-packages\\python37\\site-packages (from great_expectations) (2024.1)\n",
      "Requirement already satisfied: requests>=2.20 in c:\\users\\admin\\appdata\\local\\packages\\pythonsoftwarefoundation.python.3.7_qbz5n2kfra8p0\\localcache\\local-packages\\python37\\site-packages (from great_expectations) (2.31.0)\n",
      "Requirement already satisfied: ruamel.yaml<0.17.18,>=0.16 in c:\\users\\admin\\appdata\\local\\packages\\pythonsoftwarefoundation.python.3.7_qbz5n2kfra8p0\\localcache\\local-packages\\python37\\site-packages (from great_expectations) (0.17.17)\n",
      "Requirement already satisfied: scipy>=1.6.0 in c:\\users\\admin\\appdata\\local\\packages\\pythonsoftwarefoundation.python.3.7_qbz5n2kfra8p0\\localcache\\local-packages\\python37\\site-packages (from great_expectations) (1.7.3)\n",
      "Requirement already satisfied: tqdm>=4.59.0 in c:\\users\\admin\\appdata\\local\\packages\\pythonsoftwarefoundation.python.3.7_qbz5n2kfra8p0\\localcache\\local-packages\\python37\\site-packages (from great_expectations) (4.66.2)\n",
      "Requirement already satisfied: typing-extensions>=3.10.0.0 in c:\\users\\admin\\appdata\\local\\packages\\pythonsoftwarefoundation.python.3.7_qbz5n2kfra8p0\\localcache\\local-packages\\python37\\site-packages (from great_expectations) (4.7.1)\n",
      "Requirement already satisfied: tzlocal>=1.2 in c:\\users\\admin\\appdata\\local\\packages\\pythonsoftwarefoundation.python.3.7_qbz5n2kfra8p0\\localcache\\local-packages\\python37\\site-packages (from great_expectations) (5.1)\n",
      "Requirement already satisfied: urllib3>=1.26 in c:\\users\\admin\\appdata\\local\\packages\\pythonsoftwarefoundation.python.3.7_qbz5n2kfra8p0\\localcache\\local-packages\\python37\\site-packages (from great_expectations) (2.0.7)\n",
      "Requirement already satisfied: numpy>=1.18.5 in c:\\users\\admin\\appdata\\local\\packages\\pythonsoftwarefoundation.python.3.7_qbz5n2kfra8p0\\localcache\\local-packages\\python37\\site-packages (from great_expectations) (1.21.6)\n",
      "Requirement already satisfied: pandas<2.0.0,>=1.1.0 in c:\\users\\admin\\appdata\\local\\packages\\pythonsoftwarefoundation.python.3.7_qbz5n2kfra8p0\\localcache\\local-packages\\python37\\site-packages (from great_expectations) (1.3.5)\n",
      "Requirement already satisfied: entrypoints in c:\\users\\admin\\appdata\\local\\packages\\pythonsoftwarefoundation.python.3.7_qbz5n2kfra8p0\\localcache\\local-packages\\python37\\site-packages (from altair<5.0.0,>=4.2.1->great_expectations) (0.4)\n",
      "Requirement already satisfied: toolz in c:\\users\\admin\\appdata\\local\\packages\\pythonsoftwarefoundation.python.3.7_qbz5n2kfra8p0\\localcache\\local-packages\\python37\\site-packages (from altair<5.0.0,>=4.2.1->great_expectations) (0.12.1)\n",
      "Requirement already satisfied: cffi>=1.12 in c:\\users\\admin\\appdata\\local\\packages\\pythonsoftwarefoundation.python.3.7_qbz5n2kfra8p0\\localcache\\local-packages\\python37\\site-packages (from cryptography>=3.2->great_expectations) (1.15.1)\n",
      "Requirement already satisfied: zipp>=0.5 in c:\\users\\admin\\appdata\\local\\packages\\pythonsoftwarefoundation.python.3.7_qbz5n2kfra8p0\\localcache\\local-packages\\python37\\site-packages (from importlib-metadata>=1.7.0->great_expectations) (3.15.0)\n",
      "Requirement already satisfied: setuptools>=18.5 in c:\\program files\\windowsapps\\pythonsoftwarefoundation.python.3.7_3.7.2544.0_x64__qbz5n2kfra8p0\\lib\\site-packages (from Ipython>=7.16.3->great_expectations) (47.1.0)\n",
      "Requirement already satisfied: jedi>=0.16 in c:\\users\\admin\\appdata\\local\\packages\\pythonsoftwarefoundation.python.3.7_qbz5n2kfra8p0\\localcache\\local-packages\\python37\\site-packages (from Ipython>=7.16.3->great_expectations) (0.19.1)\n",
      "Requirement already satisfied: decorator in c:\\users\\admin\\appdata\\local\\packages\\pythonsoftwarefoundation.python.3.7_qbz5n2kfra8p0\\localcache\\local-packages\\python37\\site-packages (from Ipython>=7.16.3->great_expectations) (5.1.1)\n",
      "Requirement already satisfied: pickleshare in c:\\users\\admin\\appdata\\local\\packages\\pythonsoftwarefoundation.python.3.7_qbz5n2kfra8p0\\localcache\\local-packages\\python37\\site-packages (from Ipython>=7.16.3->great_expectations) (0.7.5)\n",
      "Requirement already satisfied: traitlets>=4.2 in c:\\users\\admin\\appdata\\local\\packages\\pythonsoftwarefoundation.python.3.7_qbz5n2kfra8p0\\localcache\\local-packages\\python37\\site-packages (from Ipython>=7.16.3->great_expectations) (5.9.0)\n",
      "Requirement already satisfied: prompt-toolkit!=3.0.0,!=3.0.1,<3.1.0,>=2.0.0 in c:\\users\\admin\\appdata\\local\\packages\\pythonsoftwarefoundation.python.3.7_qbz5n2kfra8p0\\localcache\\local-packages\\python37\\site-packages (from Ipython>=7.16.3->great_expectations) (3.0.43)\n",
      "Requirement already satisfied: pygments in c:\\users\\admin\\appdata\\local\\packages\\pythonsoftwarefoundation.python.3.7_qbz5n2kfra8p0\\localcache\\local-packages\\python37\\site-packages (from Ipython>=7.16.3->great_expectations) (2.17.2)\n",
      "Requirement already satisfied: backcall in c:\\users\\admin\\appdata\\local\\packages\\pythonsoftwarefoundation.python.3.7_qbz5n2kfra8p0\\localcache\\local-packages\\python37\\site-packages (from Ipython>=7.16.3->great_expectations) (0.2.0)\n",
      "Requirement already satisfied: matplotlib-inline in c:\\users\\admin\\appdata\\local\\packages\\pythonsoftwarefoundation.python.3.7_qbz5n2kfra8p0\\localcache\\local-packages\\python37\\site-packages (from Ipython>=7.16.3->great_expectations) (0.1.6)\n",
      "Requirement already satisfied: comm>=0.1.3 in c:\\users\\admin\\appdata\\local\\packages\\pythonsoftwarefoundation.python.3.7_qbz5n2kfra8p0\\localcache\\local-packages\\python37\\site-packages (from ipywidgets>=7.5.1->great_expectations) (0.1.4)\n",
      "Requirement already satisfied: widgetsnbextension~=4.0.10 in c:\\users\\admin\\appdata\\local\\packages\\pythonsoftwarefoundation.python.3.7_qbz5n2kfra8p0\\localcache\\local-packages\\python37\\site-packages (from ipywidgets>=7.5.1->great_expectations) (4.0.10)\n",
      "Requirement already satisfied: jupyterlab-widgets~=3.0.10 in c:\\users\\admin\\appdata\\local\\packages\\pythonsoftwarefoundation.python.3.7_qbz5n2kfra8p0\\localcache\\local-packages\\python37\\site-packages (from ipywidgets>=7.5.1->great_expectations) (3.0.10)\n",
      "Requirement already satisfied: MarkupSafe>=2.0 in c:\\users\\admin\\appdata\\local\\packages\\pythonsoftwarefoundation.python.3.7_qbz5n2kfra8p0\\localcache\\local-packages\\python37\\site-packages (from jinja2>=2.10->great_expectations) (2.1.5)\n",
      "Requirement already satisfied: jsonpointer>=1.9 in c:\\users\\admin\\appdata\\local\\packages\\pythonsoftwarefoundation.python.3.7_qbz5n2kfra8p0\\localcache\\local-packages\\python37\\site-packages (from jsonpatch>=1.22->great_expectations) (2.4)\n",
      "Requirement already satisfied: attrs>=17.4.0 in c:\\users\\admin\\appdata\\local\\packages\\pythonsoftwarefoundation.python.3.7_qbz5n2kfra8p0\\localcache\\local-packages\\python37\\site-packages (from jsonschema>=2.5.1->great_expectations) (23.2.0)\n",
      "Requirement already satisfied: importlib-resources>=1.4.0 in c:\\users\\admin\\appdata\\local\\packages\\pythonsoftwarefoundation.python.3.7_qbz5n2kfra8p0\\localcache\\local-packages\\python37\\site-packages (from jsonschema>=2.5.1->great_expectations) (5.12.0)\n",
      "Requirement already satisfied: pkgutil-resolve-name>=1.3.10 in c:\\users\\admin\\appdata\\local\\packages\\pythonsoftwarefoundation.python.3.7_qbz5n2kfra8p0\\localcache\\local-packages\\python37\\site-packages (from jsonschema>=2.5.1->great_expectations) (1.3.10)\n",
      "Requirement already satisfied: pyrsistent!=0.17.0,!=0.17.1,!=0.17.2,>=0.14.0 in c:\\users\\admin\\appdata\\local\\packages\\pythonsoftwarefoundation.python.3.7_qbz5n2kfra8p0\\localcache\\local-packages\\python37\\site-packages (from jsonschema>=2.5.1->great_expectations) (0.19.3)\n",
      "Requirement already satisfied: fastjsonschema in c:\\users\\admin\\appdata\\local\\packages\\pythonsoftwarefoundation.python.3.7_qbz5n2kfra8p0\\localcache\\local-packages\\python37\\site-packages (from nbformat>=5.0->great_expectations) (2.19.1)\n",
      "Requirement already satisfied: jupyter-core in c:\\users\\admin\\appdata\\local\\packages\\pythonsoftwarefoundation.python.3.7_qbz5n2kfra8p0\\localcache\\local-packages\\python37\\site-packages (from nbformat>=5.0->great_expectations) (4.12.0)\n",
      "Requirement already satisfied: tornado>=6.1 in c:\\users\\admin\\appdata\\local\\packages\\pythonsoftwarefoundation.python.3.7_qbz5n2kfra8p0\\localcache\\local-packages\\python37\\site-packages (from notebook>=6.4.10->great_expectations) (6.2)\n",
      "Requirement already satisfied: pyzmq<25,>=17 in c:\\users\\admin\\appdata\\local\\packages\\pythonsoftwarefoundation.python.3.7_qbz5n2kfra8p0\\localcache\\local-packages\\python37\\site-packages (from notebook>=6.4.10->great_expectations) (24.0.1)\n",
      "Requirement already satisfied: argon2-cffi in c:\\users\\admin\\appdata\\local\\packages\\pythonsoftwarefoundation.python.3.7_qbz5n2kfra8p0\\localcache\\local-packages\\python37\\site-packages (from notebook>=6.4.10->great_expectations) (23.1.0)\n",
      "Requirement already satisfied: jupyter-client<8,>=5.3.4 in c:\\users\\admin\\appdata\\local\\packages\\pythonsoftwarefoundation.python.3.7_qbz5n2kfra8p0\\localcache\\local-packages\\python37\\site-packages (from notebook>=6.4.10->great_expectations) (7.4.9)\n",
      "Requirement already satisfied: ipython-genutils in c:\\users\\admin\\appdata\\local\\packages\\pythonsoftwarefoundation.python.3.7_qbz5n2kfra8p0\\localcache\\local-packages\\python37\\site-packages (from notebook>=6.4.10->great_expectations) (0.2.0)\n",
      "Requirement already satisfied: nbconvert>=5 in c:\\users\\admin\\appdata\\local\\packages\\pythonsoftwarefoundation.python.3.7_qbz5n2kfra8p0\\localcache\\local-packages\\python37\\site-packages (from notebook>=6.4.10->great_expectations) (7.6.0)\n",
      "Requirement already satisfied: nest-asyncio>=1.5 in c:\\users\\admin\\appdata\\local\\packages\\pythonsoftwarefoundation.python.3.7_qbz5n2kfra8p0\\localcache\\local-packages\\python37\\site-packages (from notebook>=6.4.10->great_expectations) (1.6.0)\n",
      "Requirement already satisfied: ipykernel in c:\\users\\admin\\appdata\\local\\packages\\pythonsoftwarefoundation.python.3.7_qbz5n2kfra8p0\\localcache\\local-packages\\python37\\site-packages (from notebook>=6.4.10->great_expectations) (6.16.2)\n",
      "Requirement already satisfied: Send2Trash>=1.8.0 in c:\\users\\admin\\appdata\\local\\packages\\pythonsoftwarefoundation.python.3.7_qbz5n2kfra8p0\\localcache\\local-packages\\python37\\site-packages (from notebook>=6.4.10->great_expectations) (1.8.2)\n",
      "Requirement already satisfied: terminado>=0.8.3 in c:\\users\\admin\\appdata\\local\\packages\\pythonsoftwarefoundation.python.3.7_qbz5n2kfra8p0\\localcache\\local-packages\\python37\\site-packages (from notebook>=6.4.10->great_expectations) (0.17.1)\n",
      "Requirement already satisfied: prometheus-client in c:\\users\\admin\\appdata\\local\\packages\\pythonsoftwarefoundation.python.3.7_qbz5n2kfra8p0\\localcache\\local-packages\\python37\\site-packages (from notebook>=6.4.10->great_expectations) (0.17.1)\n",
      "Requirement already satisfied: nbclassic>=0.4.7 in c:\\users\\admin\\appdata\\local\\packages\\pythonsoftwarefoundation.python.3.7_qbz5n2kfra8p0\\localcache\\local-packages\\python37\\site-packages (from notebook>=6.4.10->great_expectations) (1.0.0)\n",
      "Requirement already satisfied: six>=1.5 in c:\\users\\admin\\appdata\\local\\packages\\pythonsoftwarefoundation.python.3.7_qbz5n2kfra8p0\\localcache\\local-packages\\python37\\site-packages (from python-dateutil>=2.8.1->great_expectations) (1.16.0)\n",
      "Requirement already satisfied: charset-normalizer<4,>=2 in c:\\users\\admin\\appdata\\local\\packages\\pythonsoftwarefoundation.python.3.7_qbz5n2kfra8p0\\localcache\\local-packages\\python37\\site-packages (from requests>=2.20->great_expectations) (3.3.2)\n",
      "Requirement already satisfied: idna<4,>=2.5 in c:\\users\\admin\\appdata\\local\\packages\\pythonsoftwarefoundation.python.3.7_qbz5n2kfra8p0\\localcache\\local-packages\\python37\\site-packages (from requests>=2.20->great_expectations) (3.6)\n",
      "Requirement already satisfied: certifi>=2017.4.17 in c:\\users\\admin\\appdata\\local\\packages\\pythonsoftwarefoundation.python.3.7_qbz5n2kfra8p0\\localcache\\local-packages\\python37\\site-packages (from requests>=2.20->great_expectations) (2024.2.2)\n",
      "Requirement already satisfied: ruamel.yaml.clib>=0.1.2 in c:\\users\\admin\\appdata\\local\\packages\\pythonsoftwarefoundation.python.3.7_qbz5n2kfra8p0\\localcache\\local-packages\\python37\\site-packages (from ruamel.yaml<0.17.18,>=0.16->great_expectations) (0.2.8)\n",
      "Requirement already satisfied: tzdata in c:\\users\\admin\\appdata\\local\\packages\\pythonsoftwarefoundation.python.3.7_qbz5n2kfra8p0\\localcache\\local-packages\\python37\\site-packages (from tzlocal>=1.2->great_expectations) (2024.1)\n",
      "Requirement already satisfied: backports.zoneinfo in c:\\users\\admin\\appdata\\local\\packages\\pythonsoftwarefoundation.python.3.7_qbz5n2kfra8p0\\localcache\\local-packages\\python37\\site-packages (from tzlocal>=1.2->great_expectations) (0.2.1)\n",
      "Requirement already satisfied: pycparser in c:\\users\\admin\\appdata\\local\\packages\\pythonsoftwarefoundation.python.3.7_qbz5n2kfra8p0\\localcache\\local-packages\\python37\\site-packages (from cffi>=1.12->cryptography>=3.2->great_expectations) (2.21)\n",
      "Requirement already satisfied: parso<0.9.0,>=0.8.3 in c:\\users\\admin\\appdata\\local\\packages\\pythonsoftwarefoundation.python.3.7_qbz5n2kfra8p0\\localcache\\local-packages\\python37\\site-packages (from jedi>=0.16->Ipython>=7.16.3->great_expectations) (0.8.3)\n",
      "Requirement already satisfied: pywin32>=1.0 in c:\\users\\admin\\appdata\\local\\packages\\pythonsoftwarefoundation.python.3.7_qbz5n2kfra8p0\\localcache\\local-packages\\python37\\site-packages (from jupyter-core->nbformat>=5.0->great_expectations) (306)\n",
      "Requirement already satisfied: jupyter-server>=1.8 in c:\\users\\admin\\appdata\\local\\packages\\pythonsoftwarefoundation.python.3.7_qbz5n2kfra8p0\\localcache\\local-packages\\python37\\site-packages (from nbclassic>=0.4.7->notebook>=6.4.10->great_expectations) (1.24.0)\n",
      "Requirement already satisfied: notebook-shim>=0.2.3 in c:\\users\\admin\\appdata\\local\\packages\\pythonsoftwarefoundation.python.3.7_qbz5n2kfra8p0\\localcache\\local-packages\\python37\\site-packages (from nbclassic>=0.4.7->notebook>=6.4.10->great_expectations) (0.2.3)\n",
      "Requirement already satisfied: beautifulsoup4 in c:\\users\\admin\\appdata\\local\\packages\\pythonsoftwarefoundation.python.3.7_qbz5n2kfra8p0\\localcache\\local-packages\\python37\\site-packages (from nbconvert>=5->notebook>=6.4.10->great_expectations) (4.12.3)\n",
      "Requirement already satisfied: bleach!=5.0.0 in c:\\users\\admin\\appdata\\local\\packages\\pythonsoftwarefoundation.python.3.7_qbz5n2kfra8p0\\localcache\\local-packages\\python37\\site-packages (from nbconvert>=5->notebook>=6.4.10->great_expectations) (6.0.0)\n",
      "Requirement already satisfied: defusedxml in c:\\users\\admin\\appdata\\local\\packages\\pythonsoftwarefoundation.python.3.7_qbz5n2kfra8p0\\localcache\\local-packages\\python37\\site-packages (from nbconvert>=5->notebook>=6.4.10->great_expectations) (0.7.1)\n",
      "Requirement already satisfied: jupyterlab-pygments in c:\\users\\admin\\appdata\\local\\packages\\pythonsoftwarefoundation.python.3.7_qbz5n2kfra8p0\\localcache\\local-packages\\python37\\site-packages (from nbconvert>=5->notebook>=6.4.10->great_expectations) (0.2.2)\n",
      "Requirement already satisfied: nbclient>=0.5.0 in c:\\users\\admin\\appdata\\local\\packages\\pythonsoftwarefoundation.python.3.7_qbz5n2kfra8p0\\localcache\\local-packages\\python37\\site-packages (from nbconvert>=5->notebook>=6.4.10->great_expectations) (0.7.4)\n",
      "Requirement already satisfied: pandocfilters>=1.4.1 in c:\\users\\admin\\appdata\\local\\packages\\pythonsoftwarefoundation.python.3.7_qbz5n2kfra8p0\\localcache\\local-packages\\python37\\site-packages (from nbconvert>=5->notebook>=6.4.10->great_expectations) (1.5.1)\n",
      "Requirement already satisfied: tinycss2 in c:\\users\\admin\\appdata\\local\\packages\\pythonsoftwarefoundation.python.3.7_qbz5n2kfra8p0\\localcache\\local-packages\\python37\\site-packages (from nbconvert>=5->notebook>=6.4.10->great_expectations) (1.2.1)\n",
      "Requirement already satisfied: wcwidth in c:\\users\\admin\\appdata\\local\\packages\\pythonsoftwarefoundation.python.3.7_qbz5n2kfra8p0\\localcache\\local-packages\\python37\\site-packages (from prompt-toolkit!=3.0.0,!=3.0.1,<3.1.0,>=2.0.0->Ipython>=7.16.3->great_expectations) (0.2.13)\n",
      "Requirement already satisfied: pywinpty>=1.1.0 in c:\\users\\admin\\appdata\\local\\packages\\pythonsoftwarefoundation.python.3.7_qbz5n2kfra8p0\\localcache\\local-packages\\python37\\site-packages (from terminado>=0.8.3->notebook>=6.4.10->great_expectations) (2.0.10)\n",
      "Requirement already satisfied: argon2-cffi-bindings in c:\\users\\admin\\appdata\\local\\packages\\pythonsoftwarefoundation.python.3.7_qbz5n2kfra8p0\\localcache\\local-packages\\python37\\site-packages (from argon2-cffi->notebook>=6.4.10->great_expectations) (21.2.0)\n",
      "Requirement already satisfied: debugpy>=1.0 in c:\\users\\admin\\appdata\\local\\packages\\pythonsoftwarefoundation.python.3.7_qbz5n2kfra8p0\\localcache\\local-packages\\python37\\site-packages (from ipykernel->notebook>=6.4.10->great_expectations) (1.7.0)\n",
      "Requirement already satisfied: psutil in c:\\users\\admin\\appdata\\local\\packages\\pythonsoftwarefoundation.python.3.7_qbz5n2kfra8p0\\localcache\\local-packages\\python37\\site-packages (from ipykernel->notebook>=6.4.10->great_expectations) (5.9.8)\n",
      "Requirement already satisfied: webencodings in c:\\users\\admin\\appdata\\local\\packages\\pythonsoftwarefoundation.python.3.7_qbz5n2kfra8p0\\localcache\\local-packages\\python37\\site-packages (from bleach!=5.0.0->nbconvert>=5->notebook>=6.4.10->great_expectations) (0.5.1)\n",
      "Requirement already satisfied: anyio<4,>=3.1.0 in c:\\users\\admin\\appdata\\local\\packages\\pythonsoftwarefoundation.python.3.7_qbz5n2kfra8p0\\localcache\\local-packages\\python37\\site-packages (from jupyter-server>=1.8->nbclassic>=0.4.7->notebook>=6.4.10->great_expectations) (3.7.1)\n",
      "Requirement already satisfied: websocket-client in c:\\users\\admin\\appdata\\local\\packages\\pythonsoftwarefoundation.python.3.7_qbz5n2kfra8p0\\localcache\\local-packages\\python37\\site-packages (from jupyter-server>=1.8->nbclassic>=0.4.7->notebook>=6.4.10->great_expectations) (1.6.1)\n",
      "Requirement already satisfied: soupsieve>1.2 in c:\\users\\admin\\appdata\\local\\packages\\pythonsoftwarefoundation.python.3.7_qbz5n2kfra8p0\\localcache\\local-packages\\python37\\site-packages (from beautifulsoup4->nbconvert>=5->notebook>=6.4.10->great_expectations) (2.4.1)\n",
      "Requirement already satisfied: sniffio>=1.1 in c:\\users\\admin\\appdata\\local\\packages\\pythonsoftwarefoundation.python.3.7_qbz5n2kfra8p0\\localcache\\local-packages\\python37\\site-packages (from anyio<4,>=3.1.0->jupyter-server>=1.8->nbclassic>=0.4.7->notebook>=6.4.10->great_expectations) (1.3.0)\n",
      "Requirement already satisfied: exceptiongroup in c:\\users\\admin\\appdata\\local\\packages\\pythonsoftwarefoundation.python.3.7_qbz5n2kfra8p0\\localcache\\local-packages\\python37\\site-packages (from anyio<4,>=3.1.0->jupyter-server>=1.8->nbclassic>=0.4.7->notebook>=6.4.10->great_expectations) (1.2.0)\n"
     ]
    }
   ],
   "source": [
    "!pip install --upgrade great_expectations"
   ]
  },
  {
   "cell_type": "code",
   "execution_count": 1,
   "metadata": {},
   "outputs": [
    {
     "name": "stdout",
     "output_type": "stream",
     "text": [
      "/usr/local/bin/python3\n"
     ]
    }
   ],
   "source": [
    "import sys\n",
    "print(sys.executable)\n"
   ]
  },
  {
   "cell_type": "markdown",
   "metadata": {},
   "source": [
    "cd c:\\Users\\admin\\AppData\\Local\\Programs\\Python\\Python312\\Scripts\n"
   ]
  },
  {
   "cell_type": "markdown",
   "metadata": {},
   "source": [
    "pip install "
   ]
  },
  {
   "cell_type": "code",
   "execution_count": 7,
   "metadata": {},
   "outputs": [],
   "source": [
    "import great_expectations as ge"
   ]
  },
  {
   "cell_type": "code",
   "execution_count": 8,
   "metadata": {},
   "outputs": [
    {
     "data": {
      "text/plain": [
       "'0.18.8'"
      ]
     },
     "execution_count": 8,
     "metadata": {},
     "output_type": "execute_result"
    }
   ],
   "source": [
    "ge.__version__"
   ]
  },
  {
   "cell_type": "code",
   "execution_count": 9,
   "metadata": {},
   "outputs": [],
   "source": [
    "token= 'xrBaX9uYgjfWhNR4pH7AR9PI'\n",
    "ps='2097@Hilm'"
   ]
  },
  {
   "cell_type": "code",
   "execution_count": 10,
   "metadata": {},
   "outputs": [],
   "source": [
    "from simple_salesforce import Salesforce\n",
    "sf = Salesforce(username='master.alex7@gmail.com', password=ps, security_token=token)"
   ]
  },
  {
   "cell_type": "code",
   "execution_count": 11,
   "metadata": {},
   "outputs": [
    {
     "name": "stdout",
     "output_type": "stream",
     "text": [
      "info@winwin.com\n",
      "alex.smith@email.com\n",
      "jordan.johnson@email.com\n",
      "taylor.williams@email.com\n",
      "casey.brown@email.com\n",
      "morgan.jones@email.com\n"
     ]
    }
   ],
   "source": [
    "query_result=sf.query_all(\"select Email from Contact\")\n",
    "emails = [record['Email'] for record in query_result['records']]\n",
    "emails = \"\\n\".join(emails)\n",
    "print(emails)\n"
   ]
  },
  {
   "cell_type": "code",
   "execution_count": 13,
   "metadata": {},
   "outputs": [
    {
     "data": {
      "text/plain": [
       "'0.18.8'"
      ]
     },
     "execution_count": 13,
     "metadata": {},
     "output_type": "execute_result"
    }
   ],
   "source": [
    "ge.__version__"
   ]
  },
  {
   "cell_type": "code",
   "execution_count": 19,
   "metadata": {},
   "outputs": [
    {
     "name": "stdout",
     "output_type": "stream",
     "text": [
      "  FirstName  LastName                      Email         Phone\n",
      "0      Alex     Smith       alex.smith@email.com  123-456-7890\n",
      "1    Jordan   Johnson   jordan.johnson@email.com  234-567-8901\n",
      "2    Taylor  Williams  taylor.williams@email.com  345-678-9012\n",
      "3     Casey     Brown      casey.brown@email.com  456-789-0123\n",
      "4    Morgan     Jones     morgan.jones@email.com  567-890-1234\n"
     ]
    }
   ],
   "source": [
    "import pandas as pd\n",
    "df=pd.read_csv(r\"C:\\Users\\admin\\Downloads\\sample_contacts_for_salesforce.csv\")\n",
    "print(df)"
   ]
  },
  {
   "cell_type": "code",
   "execution_count": 23,
   "metadata": {},
   "outputs": [],
   "source": [
    "my_df=ge.from_pandas(df)"
   ]
  },
  {
   "cell_type": "code",
   "execution_count": 25,
   "metadata": {},
   "outputs": [
    {
     "data": {
      "text/plain": [
       "great_expectations.dataset.pandas_dataset.PandasDataset"
      ]
     },
     "execution_count": 25,
     "metadata": {},
     "output_type": "execute_result"
    }
   ],
   "source": [
    "type(my_df)"
   ]
  },
  {
   "cell_type": "code",
   "execution_count": 28,
   "metadata": {},
   "outputs": [
    {
     "data": {
      "text/plain": [
       "{\n",
       "  \"success\": true,\n",
       "  \"result\": {\n",
       "    \"observed_value\": 5\n",
       "  },\n",
       "  \"meta\": {},\n",
       "  \"exception_info\": {\n",
       "    \"raised_exception\": false,\n",
       "    \"exception_traceback\": null,\n",
       "    \"exception_message\": null\n",
       "  }\n",
       "}"
      ]
     },
     "execution_count": 28,
     "metadata": {},
     "output_type": "execute_result"
    }
   ],
   "source": [
    "my_df.expect_table_row_count_to_equal(5)"
   ]
  },
  {
   "cell_type": "code",
   "execution_count": 32,
   "metadata": {},
   "outputs": [
    {
     "data": {
      "text/plain": [
       "{\n",
       "  \"success\": true,\n",
       "  \"result\": {},\n",
       "  \"meta\": {},\n",
       "  \"exception_info\": {\n",
       "    \"raised_exception\": false,\n",
       "    \"exception_traceback\": null,\n",
       "    \"exception_message\": null\n",
       "  }\n",
       "}"
      ]
     },
     "execution_count": 32,
     "metadata": {},
     "output_type": "execute_result"
    }
   ],
   "source": [
    "my_df.expect_column_to_exist('Email','Name')"
   ]
  },
  {
   "cell_type": "code",
   "execution_count": 25,
   "metadata": {},
   "outputs": [
    {
     "name": "stdout",
     "output_type": "stream",
     "text": [
      "Generated 10 rows...\n",
      "Generated 20 rows...\n",
      "Generated 30 rows...\n",
      "Generated 40 rows...\n",
      "Generated 50 rows...\n",
      "Dataset generation complete.\n"
     ]
    }
   ],
   "source": [
    "#account\n",
    "\n",
    "import csv\n",
    "from faker import Faker\n",
    "\n",
    "def generate_data_chunk(chunk_size, fake):\n",
    "    \"\"\"Generate a chunk of data.\"\"\"\n",
    "    for _ in range(chunk_size):\n",
    "        first_name = fake.first_name()\n",
    "        last_name = fake.last_name()\n",
    "        email = f\"{first_name.lower()}.{last_name.lower()}@email.com\"\n",
    "        phone = fake.phone_number()\n",
    "        yield [first_name, last_name, email, phone]\n",
    "\n",
    "def create_large_dataset(output_file_path, total_rows, chunk_size=10000):\n",
    "    \"\"\"Create a dataset with the specified number of rows.\"\"\"\n",
    "    fake = Faker()\n",
    "    with open(output_file_path, mode='w', newline='', encoding='utf-8') as file:\n",
    "        writer = csv.writer(file)\n",
    "        writer.writerow(['FirstName', 'LastName', 'Email', 'Phone'])  # Write the header\n",
    "\n",
    "        for _ in range(0, total_rows, chunk_size):\n",
    "            data_chunk = generate_data_chunk(chunk_size, fake)\n",
    "            writer.writerows(data_chunk)\n",
    "            print(f\"Generated {_ + chunk_size} rows...\")\n",
    "\n",
    "if __name__ == \"__main__\":\n",
    "    output_file_path = 'generated_contacts_for_salesforce_5M.csv'\n",
    "    total_rows = 50  # Total number of rows you want to generate\n",
    "    chunk_size = 10  # Number of rows to generate at a time (adjust based on your system's capabilities)\n",
    "\n",
    "    create_large_dataset(output_file_path, total_rows, chunk_size)\n",
    "    print(\"Dataset generation complete.\")\n"
   ]
  },
  {
   "cell_type": "code",
   "execution_count": 23,
   "metadata": {},
   "outputs": [
    {
     "name": "stdout",
     "output_type": "stream",
     "text": [
      "Final chunk saved. Total rows: 50\n",
      "Dataset with 50 rows created successfully and saved to generated_cases_for_salesforce_3_fields.csv\n"
     ]
    }
   ],
   "source": [
    "#3 fields\n",
    "\n",
    "\n",
    "import pandas as pd\n",
    "from faker import Faker\n",
    "\n",
    "# Initialize Faker\n",
    "fake = Faker()\n",
    "\n",
    "# Define picklist values for the 'Type' field\n",
    "TYPE_PICKLIST = ['Mechanical', 'Electrical', 'Electronic', 'Structural','Other']\n",
    "\n",
    "def generate_data_chunk(chunk_size):\n",
    "    \"\"\"Generate a chunk of synthetic data for the specified Salesforce Case object fields.\"\"\"\n",
    "    data = []\n",
    "    for _ in range(chunk_size):\n",
    "        # Generate data for each specified field\n",
    "        data.append([\n",
    "            fake.company(),  # AccountName\n",
    "            fake.name(),  # ContactName\n",
    "            fake.random_element(elements=TYPE_PICKLIST),  # Type (Picklist)\n",
    "        ])\n",
    "    \n",
    "    # Define the column names for the fields\n",
    "    column_names = ['AccountName', 'ContactName', 'Type']\n",
    "\n",
    "    return pd.DataFrame(data, columns=column_names)\n",
    "\n",
    "def save_data_chunk(df, filename, mode='a'):\n",
    "    \"\"\"Save the data chunk to a CSV file.\"\"\"\n",
    "    header = mode == 'w'  # Write header only for the first chunk\n",
    "    df.to_csv(filename, mode=mode, header=header, index=False)\n",
    "\n",
    "def create_large_dataset(total_rows, chunk_size, output_file):\n",
    "    \"\"\"Create a large dataset by generating and saving data in chunks.\"\"\"\n",
    "    chunks = total_rows // chunk_size\n",
    "    for i in range(chunks):\n",
    "        df_chunk = generate_data_chunk(chunk_size)\n",
    "        mode = 'w' if i == 0 else 'a'  # Write mode for first chunk, append for others\n",
    "        save_data_chunk(df_chunk, output_file, mode=mode)\n",
    "        print(f\"Chunk {i+1}/{chunks} saved.\")\n",
    "    # Handle any remaining rows\n",
    "    remainder = total_rows % chunk_size\n",
    "    if remainder > 0:\n",
    "        df_chunk = generate_data_chunk(remainder)\n",
    "        save_data_chunk(df_chunk, output_file, mode='a')\n",
    "        print(f\"Final chunk saved. Total rows: {total_rows}\")\n",
    "\n",
    "if __name__ == \"__main__\":\n",
    "    TOTAL_ROWS = 50  # Total number of rows to generate\n",
    "    CHUNK_SIZE = 100000   # Number of rows per chunk\n",
    "    OUTPUT_FILE = \"generated_cases_for_salesforce_3_fields.csv\"  # Output file name\n",
    "    create_large_dataset(TOTAL_ROWS, CHUNK_SIZE, OUTPUT_FILE)\n",
    "    print(f\"Dataset with {TOTAL_ROWS} rows created successfully and saved to {OUTPUT_FILE}\")\n"
   ]
  },
  {
   "cell_type": "code",
   "execution_count": 24,
   "metadata": {},
   "outputs": [
    {
     "name": "stdout",
     "output_type": "stream",
     "text": [
      "Chunk 1/5 saved.\n",
      "Chunk 2/5 saved.\n",
      "Chunk 3/5 saved.\n",
      "Chunk 4/5 saved.\n",
      "Chunk 5/5 saved.\n",
      "Dataset with 50 rows created successfully and saved to generated_cases_for_salesforce_3_fields.csv\n"
     ]
    }
   ],
   "source": [
    "import pandas as pd\n",
    "from faker import Faker\n",
    "\n",
    "# Initialize Faker\n",
    "fake = Faker()\n",
    "\n",
    "# Define picklist values for the 'Type' field\n",
    "TYPE_PICKLIST = ['Mechanical', 'Electrical', 'Electronic', 'Structural', 'Other']\n",
    "\n",
    "def generate_data_chunk(chunk_size):\n",
    "    \"\"\"Generate a chunk of synthetic data for the specified Salesforce Case object fields.\"\"\"\n",
    "    data = []\n",
    "    for _ in range(chunk_size):\n",
    "        # Generate data for each specified field\n",
    "        data.append([\n",
    "            fake.company(),  # AccountName\n",
    "            fake.name(),  # ContactName\n",
    "            fake.random_element(elements=TYPE_PICKLIST),  # Type (Picklist)\n",
    "        ])\n",
    "    \n",
    "    # Define the column names for the fields\n",
    "    column_names = ['AccountName', 'ContactName', 'Type']\n",
    "\n",
    "    return pd.DataFrame(data, columns=column_names)\n",
    "\n",
    "def save_data_chunk(df, filename, mode='a'):\n",
    "    \"\"\"Save the data chunk to a CSV file.\"\"\"\n",
    "    header = mode == 'w'  # Write header only for the first chunk\n",
    "    df.to_csv(filename, mode=mode, header=header, index=False)\n",
    "\n",
    "def create_large_dataset(total_rows, chunk_size, output_file):\n",
    "    \"\"\"Create a large dataset by generating and saving data in chunks.\"\"\"\n",
    "    chunks = total_rows // chunk_size\n",
    "    # If TOTAL_ROWS < CHUNK_SIZE, we only need to generate one chunk\n",
    "    if chunks == 0:\n",
    "        df_chunk = generate_data_chunk(total_rows)\n",
    "        save_data_chunk(df_chunk, output_file, mode='w')  # Write the only chunk with header\n",
    "    else:\n",
    "        for i in range(chunks):\n",
    "            df_chunk = generate_data_chunk(chunk_size)\n",
    "            mode = 'w' if i == 0 else 'a'  # Write mode for first chunk, append for others\n",
    "            save_data_chunk(df_chunk, output_file, mode=mode)\n",
    "            print(f\"Chunk {i+1}/{chunks} saved.\")\n",
    "        # Handle any remaining rows\n",
    "        remainder = total_rows % chunk_size\n",
    "        if remainder > 0:\n",
    "            df_chunk = generate_data_chunk(remainder)\n",
    "            save_data_chunk(df_chunk, output_file, mode='a')\n",
    "            print(f\"Final chunk saved. Total rows: {total_rows}\")\n",
    "\n",
    "if __name__ == \"__main__\":\n",
    "    TOTAL_ROWS = 50  # Total number of rows to generate\n",
    "    CHUNK_SIZE = 10  # Number of rows per chunk, adjusted to less than TOTAL_ROWS for demonstration\n",
    "    OUTPUT_FILE = \"generated_cases_for_salesforce_3_fields.csv\"  # Output file name\n",
    "    create_large_dataset(TOTAL_ROWS, CHUNK_SIZE, OUTPUT_FILE)\n",
    "    print(f\"Dataset with {TOTAL_ROWS} rows created successfully and saved to {OUTPUT_FILE}\")\n"
   ]
  },
  {
   "cell_type": "code",
   "execution_count": 26,
   "metadata": {},
   "outputs": [
    {
     "name": "stdout",
     "output_type": "stream",
     "text": [
      "CSV files for Account, Contact, and Case have been generated.\n"
     ]
    }
   ],
   "source": [
    "import csv\n",
    "from faker import Faker\n",
    "fake = Faker()\n",
    "\n",
    "# Define the number of entries\n",
    "total_rows = 50\n",
    "\n",
    "# Define file names\n",
    "account_file = 'accounts.csv'\n",
    "contact_file = 'contacts.csv'\n",
    "case_file = 'cases.csv'\n",
    "\n",
    "# Generate Account data\n",
    "accounts = []\n",
    "for _ in range(total_rows):\n",
    "    account_name = fake.company()\n",
    "    phone = fake.phone_number()\n",
    "    accounts.append([account_name, phone])\n",
    "\n",
    "# Write Account data to CSV\n",
    "with open(account_file, mode='w', newline='', encoding='utf-8') as file:\n",
    "    writer = csv.writer(file)\n",
    "    writer.writerow(['Name', 'Phone'])\n",
    "    writer.writerows(accounts)\n",
    "\n",
    "# Generate Contact data and relate to Account\n",
    "contacts = []\n",
    "for account in accounts:\n",
    "    first_name = fake.first_name()\n",
    "    last_name = fake.last_name()\n",
    "    email = fake.email()\n",
    "    account_name = account[0]  # Relate to the account name\n",
    "    contacts.append([first_name, last_name, email, account_name])\n",
    "\n",
    "# Write Contact data to CSV\n",
    "with open(contact_file, mode='w', newline='', encoding='utf-8') as file:\n",
    "    writer = csv.writer(file)\n",
    "    writer.writerow(['FirstName', 'LastName', 'Email', 'AccountName'])\n",
    "    writer.writerows(contacts)\n",
    "\n",
    "# Generate Case data and relate to Account and Contact\n",
    "cases = []\n",
    "for contact in contacts:\n",
    "    case_type = fake.random_element(elements=['Question', 'Incident', 'Problem', 'Feature Request'])\n",
    "    account_name = contact[3]  # Relate to the account name from contact\n",
    "    contact_email = contact[2]  # Relate to the contact email\n",
    "    cases.append([case_type, account_name, contact_email])\n",
    "\n",
    "# Write Case data to CSV\n",
    "with open(case_file, mode='w', newline='', encoding='utf-8') as file:\n",
    "    writer = csv.writer(file)\n",
    "    writer.writerow(['Type', 'AccountName', 'ContactEmail'])\n",
    "    writer.writerows(cases)\n",
    "\n",
    "print(\"CSV files for Account, Contact, and Case have been generated.\")\n"
   ]
  },
  {
   "cell_type": "code",
   "execution_count": 3,
   "metadata": {},
   "outputs": [
    {
     "name": "stdout",
     "output_type": "stream",
     "text": [
      "CSV files for Account, Contact, and Case have been generated.\n"
     ]
    }
   ],
   "source": [
    "import csv\n",
    "from faker import Faker\n",
    "fake = Faker()\n",
    "\n",
    "# Define the number of entries\n",
    "total_rows = 5000000\n",
    "\n",
    "# Define file names\n",
    "account_file = 'accounts.csv'\n",
    "contact_file = 'contacts.csv'\n",
    "case_file = 'cases.csv'\n",
    "\n",
    "# Generate Account data\n",
    "accounts = []\n",
    "for _ in range(total_rows):\n",
    "    account_name = fake.company()\n",
    "    phone = fake.phone_number()\n",
    "    accounts.append([account_name, phone])\n",
    "\n",
    "# Write Account data to CSV\n",
    "with open(account_file, mode='w', newline='', encoding='utf-8') as file:\n",
    "    writer = csv.writer(file)\n",
    "    writer.writerow(['Name', 'Phone'])\n",
    "    writer.writerows(accounts)\n",
    "\n",
    "# Generate Contact data and relate to Account\n",
    "contacts = []\n",
    "for account in accounts:\n",
    "    first_name = fake.first_name()\n",
    "    last_name = fake.last_name()\n",
    "    email = fake.email()\n",
    "    account_name = account[0]  # Relate to the account name\n",
    "    contacts.append([first_name, last_name, email, account_name])\n",
    "\n",
    "# Write Contact data to CSV\n",
    "with open(contact_file, mode='w', newline='', encoding='utf-8') as file:\n",
    "    writer = csv.writer(file)\n",
    "    writer.writerow(['FirstName', 'LastName', 'Email', 'AccountName'])\n",
    "    writer.writerows(contacts)\n",
    "\n",
    "# Generate Case data and relate to Account and Contact\n",
    "cases = []\n",
    "for contact in contacts:\n",
    "    case_type = fake.random_element(elements=['Question', 'Incident', 'Problem', 'Feature Request'])\n",
    "    account_name = contact[3]  # Relate to the account name from contact\n",
    "    contact_email = contact[2]  # Relate to the contact email\n",
    "    cases.append([case_type, account_name, contact_email])\n",
    "\n",
    "# Write Case data to CSV\n",
    "with open(case_file, mode='w', newline='', encoding='utf-8') as file:\n",
    "    writer = csv.writer(file)\n",
    "    writer.writerow(['Type', 'AccountName', 'ContactEmail'])\n",
    "    writer.writerows(cases)\n",
    "\n",
    "print(\"CSV files for Account, Contact, and Case have been generated.\")\n"
   ]
  },
  {
   "cell_type": "code",
   "execution_count": 6,
   "metadata": {},
   "outputs": [
    {
     "name": "stderr",
     "output_type": "stream",
     "text": [
      "C:\\Users\\admin\\AppData\\Local\\Temp\\ipykernel_23408\\341074626.py:1: DeprecationWarning: \n",
      "Pyarrow will become a required dependency of pandas in the next major release of pandas (pandas 3.0),\n",
      "(to allow more performant data types, such as the Arrow string type, and better interoperability with other libraries)\n",
      "but was not found to be installed on your system.\n",
      "If this would cause problems for you,\n",
      "please provide us feedback at https://github.com/pandas-dev/pandas/issues/54466\n",
      "        \n",
      "  import pandas as pd\n"
     ]
    },
    {
     "name": "stdout",
     "output_type": "stream",
     "text": [
      "                              Name                  Phone\n",
      "0           Hill, Knight and Moore             4609976779\n",
      "1                     Coffey-Boyer           745.290.4526\n",
      "2                        Davis PLC      587.764.1789x2110\n",
      "3                     Dickson-Carr     (971)506-4332x5201\n",
      "4                    Garcia-Wilson      (709)285-6983x524\n",
      "...                            ...                    ...\n",
      "4999995                   Haas PLC    (676)648-8701x12685\n",
      "4999996  Hodge, Swanson and Spears             3376000319\n",
      "4999997                  Jones LLC  +1-920-354-8380x63974\n",
      "4999998                  Hobbs Ltd           739-325-4524\n",
      "4999999   Smith, Castro and Wilson    (896)253-6880x25943\n",
      "\n",
      "[5000000 rows x 2 columns]\n"
     ]
    }
   ],
   "source": [
    "import pandas as pd\n",
    "dfku=pd.read_csv(r\"D:\\dataquality\\accounts.csv\")\n",
    "print(dfku)"
   ]
  },
  {
   "cell_type": "code",
   "execution_count": null,
   "metadata": {},
   "outputs": [],
   "source": []
  }
 ],
 "metadata": {
  "kernelspec": {
   "display_name": "Python 3",
   "language": "python",
   "name": "python3"
  },
  "language_info": {
   "codemirror_mode": {
    "name": "ipython",
    "version": 3
   },
   "file_extension": ".py",
   "mimetype": "text/x-python",
   "name": "python",
   "nbconvert_exporter": "python",
   "pygments_lexer": "ipython3",
   "version": "3.12.2"
  }
 },
 "nbformat": 4,
 "nbformat_minor": 2
}
